{
 "cells": [
  {
   "cell_type": "markdown",
   "metadata": {},
   "source": [
    "# Spam Filter with TF-IDF"
   ]
  },
  {
   "cell_type": "markdown",
   "metadata": {},
   "source": [
    "Learning objective: apply TF-IDF and develop Spam Filter model for the blow documents.\n",
    "\n",
    "## Manual Steps\n",
    "[Manual steps excel](https://github.com/manojknit/Natural_Language_Processing/blob/master/manualsteps/SpamFilter_TF-IDF.xlsx)"
   ]
  },
  {
   "cell_type": "code",
   "execution_count": 1,
   "metadata": {},
   "outputs": [],
   "source": [
    "doc1 = '''I wanted to let you know about money that is\n",
    "available for college in your State .\n",
    "The amount is up to $5,730* if you qualify.\n",
    "It takes like 2 minutes to check if you\n",
    "qualify.\n",
    "Click Here to get matched.'''\n",
    "doc2 = '''Free -Coupons for next movie. T he above links will take you\n",
    "straight to our partner's site. For more information or to\n",
    "see other offers available, you can also visit the Groupon\n",
    "on the Working Advantage website.'''\n",
    "doc3 = '''Our records indicate your Pension is under performing to see higher\n",
    "growth and up to 25% cash release reply PENSION for a free review.\n",
    "To opt out reply STOP'''\n",
    "doc4 = '''Enter to win $25,000 and get a Free Hotel Night! Just\n",
    "click here for a $1 trial membership in NetMarket, the\n",
    "Internet'spremier discount shopping site:\n",
    "Fast Company EZVenture gives you FREE business\n",
    "articles,PLUS, you could win YOUR CHOICE of a BMW Z3\n",
    "convertible, $100,000, shares of Microsoft stock, or a\n",
    "home office computer. Go there and get your chances to\n",
    "win now.\n",
    "A crazy-funny-cool trivia book with a $10,000 prize?\n",
    "PLUS chocolate, nail polish, cats, barnyard animals,\n",
    "and more?'''\n",
    "doc5 = '''Dear recipient,\n",
    "Avangar Technologies announces the beginning of a new\n",
    "unprecendented global employment campaign.\n",
    "Due to company's exploding growth Avangar is expanding\n",
    "business to the European region.\n",
    "During last employment campaign over 1500 people worldwide\n",
    "took part in Avangar's business\n",
    "and more than half of them are currently employed by the\n",
    "company. And now we are offering you\n",
    "one more opportunity to earn extra money working with Avangar\n",
    "Technologies.\n",
    "We are looking for honest, responsible, hard-working people that\n",
    "can dedicate 2-4 hours of their\n",
    "time per day and earn extra Â£300-500 weekly. All offered\n",
    "positions are currently part-time\n",
    "and give you a chance to work mainly from home.'''\n",
    "doc6 = '''I know that's an incredible statement, but bear with me\n",
    "while I explain. You have already deleted mail from\n",
    "dozens of \"Get Rich Quick\" schemes, chain letter\n",
    "offers, and LOTS of other absurd scams that promise to\n",
    "make you rich overnight with no investment and no work.\n",
    "My offer isn't one of those. What I'm offering is a\n",
    "straightforward computer-based service that you can run\n",
    "full-or part-time like a regular business. This service\n",
    "runs auto-matically while you sleep, vacation, or work\n",
    "a \"regular\" job. It provides a valuable new service for\n",
    "businesses in your area.\n",
    "I'm offering a high-tech, low-maintenance, work-fromanywhere\n",
    "business that can bring in a nice comfortable\n",
    "additional income for your family. I did it for eight\n",
    "years. Since I started inviting others to join me, I've\n",
    "helped over 4000 do the same.'''\n",
    "\n",
    "doc_spam = 'Free\tClick here\tvisit\topen attachment\tcall this number\tmoney\tOut\textra\toffer\tavailable\tPension\tOpportunity\tChance\tInvestment'\n",
    "# combine documents\n",
    "#corpus_spam = ['Free',\t'Click here',\t'visit',\t'open attachment',\t'call this number',\t'money',\t'Out',\t'extra',\t'offer',\t'available',\t'Pension',\t'Opportunity',\t'Chance',\t'Investment']\n",
    "#corpus_spam "
   ]
  },
  {
   "cell_type": "code",
   "execution_count": 2,
   "metadata": {},
   "outputs": [
    {
     "name": "stdout",
     "output_type": "stream",
     "text": [
      "[nltk_data] Downloading package stopwords to\n",
      "[nltk_data]     /Users/mk194903/nltk_data...\n",
      "[nltk_data]   Package stopwords is already up-to-date!\n"
     ]
    }
   ],
   "source": [
    "import numpy as np\n",
    "import matplotlib.pyplot as plt\n",
    "import pandas as pd\n",
    "\n",
    "import re\n",
    "import nltk\n",
    "nltk.download('stopwords')\n",
    "from nltk.corpus import stopwords  # stop words are, is, the etc. which are not needed for model\n",
    "from nltk.stem.porter import PorterStemmer"
   ]
  },
  {
   "cell_type": "code",
   "execution_count": 3,
   "metadata": {},
   "outputs": [],
   "source": [
    "def CleaningText(txt):\n",
    "    review = re.sub('[^a-zA-Z]', ' ', txt) # Cleans all except characters\n",
    "    review = review.lower()\n",
    "    review = review.split()\n",
    "    ps = PorterStemmer()\n",
    "    review = [ps.stem(word) for word in review if not word in set(stopwords.words('english'))]\n",
    "    review = ' '.join(review)\n",
    "    return review"
   ]
  },
  {
   "cell_type": "code",
   "execution_count": 4,
   "metadata": {},
   "outputs": [
    {
     "data": {
      "text/plain": [
       "['want let know money avail colleg state amount qualifi take like minut check qualifi click get match',\n",
       " 'free coupon next movi link take straight partner site inform see offer avail also visit groupon work advantag websit',\n",
       " 'record indic pension perform see higher growth cash releas repli pension free review opt repli stop',\n",
       " 'enter win get free hotel night click trial membership netmarket internet spremier discount shop site fast compani ezventur give free busi articl plu could win choic bmw z convert share microsoft stock home offic comput go get chanc win crazi funni cool trivia book prize plu chocol nail polish cat barnyard anim',\n",
       " 'dear recipi avangar technolog announc begin new unprecend global employ campaign due compani explod growth avangar expand busi european region last employ campaign peopl worldwid took part avangar busi half current employ compani offer one opportun earn extra money work avangar technolog look honest respons hard work peopl dedic hour time per day earn extra weekli offer posit current part time give chanc work mainli home',\n",
       " 'know incred statement bear explain alreadi delet mail dozen get rich quick scheme chain letter offer lot absurd scam promis make rich overnight invest work offer one offer straightforward comput base servic run full part time like regular busi servic run auto matic sleep vacat work regular job provid valuabl new servic busi area offer high tech low mainten work fromanywher busi bring nice comfort addit incom famili eight year sinc start invit other join help',\n",
       " 'free click visit open attach call number money extra offer avail pension opportun chanc invest']"
      ]
     },
     "execution_count": 4,
     "metadata": {},
     "output_type": "execute_result"
    }
   ],
   "source": [
    "corpus = []\n",
    "corpus.append(CleaningText(doc1))\n",
    "corpus.append(CleaningText(doc2))\n",
    "corpus.append(CleaningText(doc3))\n",
    "corpus.append(CleaningText(doc4))\n",
    "corpus.append(CleaningText(doc5))\n",
    "corpus.append(CleaningText(doc6))\n",
    "corpus.append(CleaningText(doc_spam))\n",
    "corpus"
   ]
  },
  {
   "cell_type": "code",
   "execution_count": 5,
   "metadata": {},
   "outputs": [],
   "source": [
    "# tf–idf or TFIDF(term frequency–inverse document frequency) is Vectorizer like GloVe and word2vec,\n",
    "# is a numerical statistic that is intended to reflect how important a word is to a document in a collection or corpus.\n",
    "from sklearn.feature_extraction.text import TfidfVectorizer\n",
    "vectorizer = TfidfVectorizer()"
   ]
  },
  {
   "cell_type": "code",
   "execution_count": 6,
   "metadata": {},
   "outputs": [
    {
     "data": {
      "text/plain": [
       "<7x183 sparse matrix of type '<class 'numpy.float64'>'\n",
       "\twith 222 stored elements in Compressed Sparse Row format>"
      ]
     },
     "execution_count": 6,
     "metadata": {},
     "output_type": "execute_result"
    }
   ],
   "source": [
    "X = vectorizer.fit_transform(corpus)\n",
    "X"
   ]
  },
  {
   "cell_type": "code",
   "execution_count": 27,
   "metadata": {},
   "outputs": [
    {
     "data": {
      "text/html": [
       "<div>\n",
       "<style scoped>\n",
       "    .dataframe tbody tr th:only-of-type {\n",
       "        vertical-align: middle;\n",
       "    }\n",
       "\n",
       "    .dataframe tbody tr th {\n",
       "        vertical-align: top;\n",
       "    }\n",
       "\n",
       "    .dataframe thead th {\n",
       "        text-align: right;\n",
       "    }\n",
       "</style>\n",
       "<table border=\"1\" class=\"dataframe\">\n",
       "  <thead>\n",
       "    <tr style=\"text-align: right;\">\n",
       "      <th></th>\n",
       "      <th>want</th>\n",
       "      <th>let</th>\n",
       "      <th>know</th>\n",
       "      <th>money</th>\n",
       "      <th>avail</th>\n",
       "      <th>colleg</th>\n",
       "      <th>state</th>\n",
       "      <th>amount</th>\n",
       "      <th>qualifi</th>\n",
       "      <th>take</th>\n",
       "      <th>...</th>\n",
       "      <th>sinc</th>\n",
       "      <th>start</th>\n",
       "      <th>invit</th>\n",
       "      <th>other</th>\n",
       "      <th>join</th>\n",
       "      <th>help</th>\n",
       "      <th>open</th>\n",
       "      <th>attach</th>\n",
       "      <th>call</th>\n",
       "      <th>number</th>\n",
       "    </tr>\n",
       "  </thead>\n",
       "  <tbody>\n",
       "    <tr>\n",
       "      <th>0</th>\n",
       "      <td>0.0</td>\n",
       "      <td>0.0</td>\n",
       "      <td>0.00000</td>\n",
       "      <td>0.0</td>\n",
       "      <td>0.00000</td>\n",
       "      <td>0.249371</td>\n",
       "      <td>0.000000</td>\n",
       "      <td>0.000000</td>\n",
       "      <td>0.0</td>\n",
       "      <td>0.000000</td>\n",
       "      <td>...</td>\n",
       "      <td>0.0</td>\n",
       "      <td>0.0</td>\n",
       "      <td>0.000000</td>\n",
       "      <td>0.249371</td>\n",
       "      <td>0.00000</td>\n",
       "      <td>0.000000</td>\n",
       "      <td>0.00000</td>\n",
       "      <td>0.000000</td>\n",
       "      <td>0.000000</td>\n",
       "      <td>0.0</td>\n",
       "    </tr>\n",
       "    <tr>\n",
       "      <th>1</th>\n",
       "      <td>0.0</td>\n",
       "      <td>0.0</td>\n",
       "      <td>0.25382</td>\n",
       "      <td>0.0</td>\n",
       "      <td>0.25382</td>\n",
       "      <td>0.000000</td>\n",
       "      <td>0.000000</td>\n",
       "      <td>0.000000</td>\n",
       "      <td>0.0</td>\n",
       "      <td>0.000000</td>\n",
       "      <td>...</td>\n",
       "      <td>0.0</td>\n",
       "      <td>0.0</td>\n",
       "      <td>0.210693</td>\n",
       "      <td>0.000000</td>\n",
       "      <td>0.25382</td>\n",
       "      <td>0.000000</td>\n",
       "      <td>0.00000</td>\n",
       "      <td>0.180093</td>\n",
       "      <td>0.000000</td>\n",
       "      <td>0.0</td>\n",
       "    </tr>\n",
       "    <tr>\n",
       "      <th>2</th>\n",
       "      <td>0.0</td>\n",
       "      <td>0.0</td>\n",
       "      <td>0.00000</td>\n",
       "      <td>0.0</td>\n",
       "      <td>0.00000</td>\n",
       "      <td>0.000000</td>\n",
       "      <td>0.000000</td>\n",
       "      <td>0.000000</td>\n",
       "      <td>0.0</td>\n",
       "      <td>0.000000</td>\n",
       "      <td>...</td>\n",
       "      <td>0.0</td>\n",
       "      <td>0.0</td>\n",
       "      <td>0.000000</td>\n",
       "      <td>0.000000</td>\n",
       "      <td>0.00000</td>\n",
       "      <td>0.000000</td>\n",
       "      <td>0.00000</td>\n",
       "      <td>0.000000</td>\n",
       "      <td>0.000000</td>\n",
       "      <td>0.0</td>\n",
       "    </tr>\n",
       "    <tr>\n",
       "      <th>3</th>\n",
       "      <td>0.0</td>\n",
       "      <td>0.0</td>\n",
       "      <td>0.00000</td>\n",
       "      <td>0.0</td>\n",
       "      <td>0.00000</td>\n",
       "      <td>0.000000</td>\n",
       "      <td>0.134247</td>\n",
       "      <td>0.000000</td>\n",
       "      <td>0.0</td>\n",
       "      <td>0.134247</td>\n",
       "      <td>...</td>\n",
       "      <td>0.0</td>\n",
       "      <td>0.0</td>\n",
       "      <td>0.000000</td>\n",
       "      <td>0.000000</td>\n",
       "      <td>0.00000</td>\n",
       "      <td>0.000000</td>\n",
       "      <td>0.40274</td>\n",
       "      <td>0.000000</td>\n",
       "      <td>0.000000</td>\n",
       "      <td>0.0</td>\n",
       "    </tr>\n",
       "    <tr>\n",
       "      <th>4</th>\n",
       "      <td>0.0</td>\n",
       "      <td>0.0</td>\n",
       "      <td>0.00000</td>\n",
       "      <td>0.0</td>\n",
       "      <td>0.00000</td>\n",
       "      <td>0.000000</td>\n",
       "      <td>0.000000</td>\n",
       "      <td>0.102475</td>\n",
       "      <td>0.0</td>\n",
       "      <td>0.000000</td>\n",
       "      <td>...</td>\n",
       "      <td>0.0</td>\n",
       "      <td>0.0</td>\n",
       "      <td>0.000000</td>\n",
       "      <td>0.000000</td>\n",
       "      <td>0.00000</td>\n",
       "      <td>0.102475</td>\n",
       "      <td>0.00000</td>\n",
       "      <td>0.218127</td>\n",
       "      <td>0.102475</td>\n",
       "      <td>0.0</td>\n",
       "    </tr>\n",
       "  </tbody>\n",
       "</table>\n",
       "<p>5 rows × 183 columns</p>\n",
       "</div>"
      ],
      "text/plain": [
       "   want  let     know  money    avail    colleg     state    amount  qualifi  \\\n",
       "0   0.0  0.0  0.00000    0.0  0.00000  0.249371  0.000000  0.000000      0.0   \n",
       "1   0.0  0.0  0.25382    0.0  0.25382  0.000000  0.000000  0.000000      0.0   \n",
       "2   0.0  0.0  0.00000    0.0  0.00000  0.000000  0.000000  0.000000      0.0   \n",
       "3   0.0  0.0  0.00000    0.0  0.00000  0.000000  0.134247  0.000000      0.0   \n",
       "4   0.0  0.0  0.00000    0.0  0.00000  0.000000  0.000000  0.102475      0.0   \n",
       "\n",
       "       take   ...    sinc  start     invit     other     join      help  \\\n",
       "0  0.000000   ...     0.0    0.0  0.000000  0.249371  0.00000  0.000000   \n",
       "1  0.000000   ...     0.0    0.0  0.210693  0.000000  0.25382  0.000000   \n",
       "2  0.000000   ...     0.0    0.0  0.000000  0.000000  0.00000  0.000000   \n",
       "3  0.134247   ...     0.0    0.0  0.000000  0.000000  0.00000  0.000000   \n",
       "4  0.000000   ...     0.0    0.0  0.000000  0.000000  0.00000  0.102475   \n",
       "\n",
       "      open    attach      call  number  \n",
       "0  0.00000  0.000000  0.000000     0.0  \n",
       "1  0.00000  0.180093  0.000000     0.0  \n",
       "2  0.00000  0.000000  0.000000     0.0  \n",
       "3  0.40274  0.000000  0.000000     0.0  \n",
       "4  0.00000  0.218127  0.102475     0.0  \n",
       "\n",
       "[5 rows x 183 columns]"
      ]
     },
     "execution_count": 27,
     "metadata": {},
     "output_type": "execute_result"
    }
   ],
   "source": [
    "#Visualizing TF-IDF Vectors\n",
    "textmatrix = pd.DataFrame(X.toarray(),columns=vectorizer.vocabulary_)\n",
    "textmatrix.head(5)"
   ]
  },
  {
   "cell_type": "code",
   "execution_count": 7,
   "metadata": {
    "scrolled": true
   },
   "outputs": [
    {
     "name": "stdout",
     "output_type": "stream",
     "text": [
      "  (0, 176)\t0.2493706782436894\n",
      "  (0, 91)\t0.2493706782436894\n",
      "  (0, 89)\t0.20699907872080728\n",
      "  (0, 107)\t0.17693595042670052\n",
      "  (0, 12)\t0.17693595042670052\n",
      "  (0, 32)\t0.2493706782436894\n",
      "  (0, 159)\t0.2493706782436894\n",
      "  (0, 5)\t0.2493706782436894\n",
      "  (0, 136)\t0.4987413564873788\n",
      "  (0, 165)\t0.20699907872080728\n",
      "  (0, 93)\t0.20699907872080728\n",
      "  (0, 106)\t0.2493706782436894\n",
      "  (0, 28)\t0.2493706782436894\n",
      "  (0, 31)\t0.17693595042670052\n",
      "  (0, 65)\t0.17693595042670052\n",
      "  (0, 102)\t0.2493706782436894\n",
      "  (1, 12)\t0.18009303678921698\n",
      "  (1, 165)\t0.21069258457367046\n",
      "  (1, 61)\t0.1563581835776868\n",
      "  (1, 39)\t0.2538202249050434\n",
      "  (1, 112)\t0.2538202249050434\n",
      "  (1, 108)\t0.2538202249050434\n",
      "  (1, 94)\t0.2538202249050434\n",
      "  (1, 163)\t0.2538202249050434\n",
      "  (1, 125)\t0.2538202249050434\n",
      "  :\t:\n",
      "  (5, 80)\t0.10532196806241785\n",
      "  (5, 59)\t0.10532196806241785\n",
      "  (5, 50)\t0.10532196806241785\n",
      "  (5, 182)\t0.10532196806241785\n",
      "  (5, 154)\t0.10532196806241785\n",
      "  (5, 158)\t0.10532196806241785\n",
      "  (5, 86)\t0.10532196806241785\n",
      "  (5, 122)\t0.10532196806241785\n",
      "  (5, 88)\t0.10532196806241785\n",
      "  (5, 73)\t0.10532196806241785\n",
      "  (6, 107)\t0.22196771036503404\n",
      "  (6, 12)\t0.22196771036503404\n",
      "  (6, 31)\t0.22196771036503404\n",
      "  (6, 61)\t0.1927141028011853\n",
      "  (6, 116)\t0.1927141028011853\n",
      "  (6, 175)\t0.25968216996332577\n",
      "  (6, 126)\t0.25968216996332577\n",
      "  (6, 27)\t0.22196771036503404\n",
      "  (6, 120)\t0.25968216996332577\n",
      "  (6, 57)\t0.25968216996332577\n",
      "  (6, 85)\t0.25968216996332577\n",
      "  (6, 119)\t0.3128377152774172\n",
      "  (6, 10)\t0.3128377152774172\n",
      "  (6, 22)\t0.3128377152774172\n",
      "  (6, 115)\t0.3128377152774172\n"
     ]
    }
   ],
   "source": [
    "print(X)"
   ]
  },
  {
   "cell_type": "code",
   "execution_count": 8,
   "metadata": {
    "scrolled": true
   },
   "outputs": [
    {
     "data": {
      "text/plain": [
       "{'want': 176,\n",
       " 'let': 91,\n",
       " 'know': 89,\n",
       " 'money': 107,\n",
       " 'avail': 12,\n",
       " 'colleg': 32,\n",
       " 'state': 159,\n",
       " 'amount': 5,\n",
       " 'qualifi': 136,\n",
       " 'take': 165,\n",
       " 'like': 93,\n",
       " 'minut': 106,\n",
       " 'check': 28,\n",
       " 'click': 31,\n",
       " 'get': 65,\n",
       " 'match': 102,\n",
       " 'free': 61,\n",
       " 'coupon': 39,\n",
       " 'next': 112,\n",
       " 'movi': 108,\n",
       " 'link': 94,\n",
       " 'straight': 163,\n",
       " 'partner': 125,\n",
       " 'site': 155,\n",
       " 'inform': 83,\n",
       " 'see': 150,\n",
       " 'offer': 116,\n",
       " 'also': 4,\n",
       " 'visit': 175,\n",
       " 'groupon': 69,\n",
       " 'work': 180,\n",
       " 'advantag': 2,\n",
       " 'websit': 177,\n",
       " 'record': 139,\n",
       " 'indic': 82,\n",
       " 'pension': 126,\n",
       " 'perform': 129,\n",
       " 'higher': 75,\n",
       " 'growth': 70,\n",
       " 'cash': 24,\n",
       " 'releas': 142,\n",
       " 'repli': 143,\n",
       " 'review': 145,\n",
       " 'opt': 121,\n",
       " 'stop': 162,\n",
       " 'enter': 52,\n",
       " 'win': 179,\n",
       " 'hotel': 78,\n",
       " 'night': 114,\n",
       " 'trial': 170,\n",
       " 'membership': 104,\n",
       " 'netmarket': 110,\n",
       " 'internet': 84,\n",
       " 'spremier': 157,\n",
       " 'discount': 46,\n",
       " 'shop': 153,\n",
       " 'fast': 60,\n",
       " 'compani': 34,\n",
       " 'ezventur': 58,\n",
       " 'give': 66,\n",
       " 'busi': 21,\n",
       " 'articl': 9,\n",
       " 'plu': 130,\n",
       " 'could': 38,\n",
       " 'choic': 30,\n",
       " 'bmw': 18,\n",
       " 'convert': 36,\n",
       " 'share': 152,\n",
       " 'microsoft': 105,\n",
       " 'stock': 161,\n",
       " 'home': 76,\n",
       " 'offic': 117,\n",
       " 'comput': 35,\n",
       " 'go': 68,\n",
       " 'chanc': 27,\n",
       " 'crazi': 40,\n",
       " 'funni': 64,\n",
       " 'cool': 37,\n",
       " 'trivia': 171,\n",
       " 'book': 19,\n",
       " 'prize': 133,\n",
       " 'chocol': 29,\n",
       " 'nail': 109,\n",
       " 'polish': 131,\n",
       " 'cat': 25,\n",
       " 'barnyard': 14,\n",
       " 'anim': 6,\n",
       " 'dear': 43,\n",
       " 'recipi': 138,\n",
       " 'avangar': 13,\n",
       " 'technolog': 167,\n",
       " 'announc': 7,\n",
       " 'begin': 17,\n",
       " 'new': 111,\n",
       " 'unprecend': 172,\n",
       " 'global': 67,\n",
       " 'employ': 51,\n",
       " 'campaign': 23,\n",
       " 'due': 48,\n",
       " 'explod': 56,\n",
       " 'expand': 54,\n",
       " 'european': 53,\n",
       " 'region': 140,\n",
       " 'last': 90,\n",
       " 'peopl': 127,\n",
       " 'worldwid': 181,\n",
       " 'took': 169,\n",
       " 'part': 124,\n",
       " 'half': 71,\n",
       " 'current': 41,\n",
       " 'one': 118,\n",
       " 'opportun': 120,\n",
       " 'earn': 49,\n",
       " 'extra': 57,\n",
       " 'look': 95,\n",
       " 'honest': 77,\n",
       " 'respons': 144,\n",
       " 'hard': 72,\n",
       " 'dedic': 44,\n",
       " 'hour': 79,\n",
       " 'time': 168,\n",
       " 'per': 128,\n",
       " 'day': 42,\n",
       " 'weekli': 178,\n",
       " 'posit': 132,\n",
       " 'mainli': 99,\n",
       " 'incred': 81,\n",
       " 'statement': 160,\n",
       " 'bear': 16,\n",
       " 'explain': 55,\n",
       " 'alreadi': 3,\n",
       " 'delet': 45,\n",
       " 'mail': 98,\n",
       " 'dozen': 47,\n",
       " 'rich': 146,\n",
       " 'quick': 137,\n",
       " 'scheme': 149,\n",
       " 'chain': 26,\n",
       " 'letter': 92,\n",
       " 'lot': 96,\n",
       " 'absurd': 0,\n",
       " 'scam': 148,\n",
       " 'promis': 134,\n",
       " 'make': 101,\n",
       " 'overnight': 123,\n",
       " 'invest': 85,\n",
       " 'straightforward': 164,\n",
       " 'base': 15,\n",
       " 'servic': 151,\n",
       " 'run': 147,\n",
       " 'full': 63,\n",
       " 'regular': 141,\n",
       " 'auto': 11,\n",
       " 'matic': 103,\n",
       " 'sleep': 156,\n",
       " 'vacat': 173,\n",
       " 'job': 87,\n",
       " 'provid': 135,\n",
       " 'valuabl': 174,\n",
       " 'area': 8,\n",
       " 'high': 74,\n",
       " 'tech': 166,\n",
       " 'low': 97,\n",
       " 'mainten': 100,\n",
       " 'fromanywher': 62,\n",
       " 'bring': 20,\n",
       " 'nice': 113,\n",
       " 'comfort': 33,\n",
       " 'addit': 1,\n",
       " 'incom': 80,\n",
       " 'famili': 59,\n",
       " 'eight': 50,\n",
       " 'year': 182,\n",
       " 'sinc': 154,\n",
       " 'start': 158,\n",
       " 'invit': 86,\n",
       " 'other': 122,\n",
       " 'join': 88,\n",
       " 'help': 73,\n",
       " 'open': 119,\n",
       " 'attach': 10,\n",
       " 'call': 22,\n",
       " 'number': 115}"
      ]
     },
     "execution_count": 8,
     "metadata": {},
     "output_type": "execute_result"
    }
   ],
   "source": [
    "#plot_tfidf_classfeats_h(X.getnnz())\n",
    "vectorizer.vocabulary_"
   ]
  },
  {
   "cell_type": "code",
   "execution_count": 9,
   "metadata": {},
   "outputs": [
    {
     "name": "stdout",
     "output_type": "stream",
     "text": [
      "want\n"
     ]
    }
   ],
   "source": [
    "# can see features\n",
    "features = vectorizer.get_feature_names()\n",
    "print(features[176])"
   ]
  },
  {
   "cell_type": "code",
   "execution_count": 10,
   "metadata": {},
   "outputs": [
    {
     "data": {
      "text/plain": [
       "(7, 183)"
      ]
     },
     "execution_count": 10,
     "metadata": {},
     "output_type": "execute_result"
    }
   ],
   "source": [
    "X.shape"
   ]
  },
  {
   "cell_type": "code",
   "execution_count": 11,
   "metadata": {
    "scrolled": true
   },
   "outputs": [
    {
     "data": {
      "text/plain": [
       "array([[0.        , 0.        , 0.        , 0.        , 0.        ,\n",
       "        0.        , 0.        , 0.        , 0.        , 0.        ,\n",
       "        0.31283772, 0.        , 0.22196771, 0.        , 0.        ,\n",
       "        0.        , 0.        , 0.        , 0.        , 0.        ,\n",
       "        0.        , 0.        , 0.31283772, 0.        , 0.        ,\n",
       "        0.        , 0.        , 0.22196771, 0.        , 0.        ,\n",
       "        0.        , 0.22196771, 0.        , 0.        , 0.        ,\n",
       "        0.        , 0.        , 0.        , 0.        , 0.        ,\n",
       "        0.        , 0.        , 0.        , 0.        , 0.        ,\n",
       "        0.        , 0.        , 0.        , 0.        , 0.        ,\n",
       "        0.        , 0.        , 0.        , 0.        , 0.        ,\n",
       "        0.        , 0.        , 0.25968217, 0.        , 0.        ,\n",
       "        0.        , 0.1927141 , 0.        , 0.        , 0.        ,\n",
       "        0.        , 0.        , 0.        , 0.        , 0.        ,\n",
       "        0.        , 0.        , 0.        , 0.        , 0.        ,\n",
       "        0.        , 0.        , 0.        , 0.        , 0.        ,\n",
       "        0.        , 0.        , 0.        , 0.        , 0.        ,\n",
       "        0.25968217, 0.        , 0.        , 0.        , 0.        ,\n",
       "        0.        , 0.        , 0.        , 0.        , 0.        ,\n",
       "        0.        , 0.        , 0.        , 0.        , 0.        ,\n",
       "        0.        , 0.        , 0.        , 0.        , 0.        ,\n",
       "        0.        , 0.        , 0.22196771, 0.        , 0.        ,\n",
       "        0.        , 0.        , 0.        , 0.        , 0.        ,\n",
       "        0.31283772, 0.1927141 , 0.        , 0.        , 0.31283772,\n",
       "        0.25968217, 0.        , 0.        , 0.        , 0.        ,\n",
       "        0.        , 0.25968217, 0.        , 0.        , 0.        ,\n",
       "        0.        , 0.        , 0.        , 0.        , 0.        ,\n",
       "        0.        , 0.        , 0.        , 0.        , 0.        ,\n",
       "        0.        , 0.        , 0.        , 0.        , 0.        ,\n",
       "        0.        , 0.        , 0.        , 0.        , 0.        ,\n",
       "        0.        , 0.        , 0.        , 0.        , 0.        ,\n",
       "        0.        , 0.        , 0.        , 0.        , 0.        ,\n",
       "        0.        , 0.        , 0.        , 0.        , 0.        ,\n",
       "        0.        , 0.        , 0.        , 0.        , 0.        ,\n",
       "        0.        , 0.        , 0.        , 0.        , 0.        ,\n",
       "        0.25968217, 0.        , 0.        , 0.        , 0.        ,\n",
       "        0.        , 0.        , 0.        ]])"
      ]
     },
     "execution_count": 11,
     "metadata": {},
     "output_type": "execute_result"
    }
   ],
   "source": [
    "X[6].toarray()"
   ]
  },
  {
   "cell_type": "markdown",
   "metadata": {},
   "source": [
    "## Cosine destance to see closeness to Spam doc"
   ]
  },
  {
   "cell_type": "code",
   "execution_count": 12,
   "metadata": {},
   "outputs": [],
   "source": [
    "from scipy import spatial"
   ]
  },
  {
   "cell_type": "code",
   "execution_count": 13,
   "metadata": {},
   "outputs": [
    {
     "data": {
      "text/plain": [
       "0.11782220339242766"
      ]
     },
     "execution_count": 13,
     "metadata": {},
     "output_type": "execute_result"
    }
   ],
   "source": [
    "# dissimilarity (lesser value mean corelated) ; For cosine 1-correlated, zero - (uncorrelated\n",
    "cos_doc1 = 1 - spatial.distance.cosine(X[0].toarray(), X[6].toarray())\n",
    "cos_doc1"
   ]
  },
  {
   "cell_type": "code",
   "execution_count": 14,
   "metadata": {},
   "outputs": [
    {
     "data": {
      "text/plain": [
       "0.15495280071365447"
      ]
     },
     "execution_count": 14,
     "metadata": {},
     "output_type": "execute_result"
    }
   ],
   "source": [
    "cos_doc2 = 1 - spatial.distance.cosine(X[1].toarray(), X[6].toarray())\n",
    "cos_doc2"
   ]
  },
  {
   "cell_type": "code",
   "execution_count": 15,
   "metadata": {},
   "outputs": [
    {
     "data": {
      "text/plain": [
       "0.1313835885782635"
      ]
     },
     "execution_count": 15,
     "metadata": {},
     "output_type": "execute_result"
    }
   ],
   "source": [
    "cos_doc3 = 1 - spatial.distance.cosine(X[2].toarray(), X[6].toarray())\n",
    "cos_doc3"
   ]
  },
  {
   "cell_type": "code",
   "execution_count": 16,
   "metadata": {},
   "outputs": [
    {
     "data": {
      "text/plain": [
       "0.07416014151358152"
      ]
     },
     "execution_count": 16,
     "metadata": {},
     "output_type": "execute_result"
    }
   ],
   "source": [
    "cos_doc4 = 1 - spatial.distance.cosine(X[3].toarray(), X[6].toarray())\n",
    "cos_doc4"
   ]
  },
  {
   "cell_type": "code",
   "execution_count": 17,
   "metadata": {},
   "outputs": [
    {
     "data": {
      "text/plain": [
       "0.12287667791808132"
      ]
     },
     "execution_count": 17,
     "metadata": {},
     "output_type": "execute_result"
    }
   ],
   "source": [
    "cos_doc5 = 1 - spatial.distance.cosine(X[4].toarray(), X[6].toarray())\n",
    "cos_doc5"
   ]
  },
  {
   "cell_type": "code",
   "execution_count": 18,
   "metadata": {},
   "outputs": [
    {
     "data": {
      "text/plain": [
       "0.0727164994715177"
      ]
     },
     "execution_count": 18,
     "metadata": {},
     "output_type": "execute_result"
    }
   ],
   "source": [
    "cos_doc6 = 1 - spatial.distance.cosine(X[5].toarray(), X[6].toarray())\n",
    "cos_doc6"
   ]
  },
  {
   "cell_type": "markdown",
   "metadata": {},
   "source": [
    "### Note: \n",
    "<span style=\"color:blue\">**By seeing cosine dissimilarity between Spam Dictionary vector and other doc vectors we can say doc6, doc4, and doc1 are close to spam. This result justifies Manual steps and calculation in excel.**</span>"
   ]
  },
  {
   "cell_type": "code",
   "execution_count": 19,
   "metadata": {
    "scrolled": true
   },
   "outputs": [],
   "source": [
    "# We can apply Model if we have more training senarios. In this case is not applicable.\n",
    "#from sklearn.naive_bayes import MultinomialNB\n",
    "#spam_detect_model = MultinomialNB().fit(X[6].toarray(), [1])"
   ]
  },
  {
   "cell_type": "code",
   "execution_count": 20,
   "metadata": {},
   "outputs": [],
   "source": [
    "#pred = spam_detect_model.predict(X[0].toarray())"
   ]
  },
  {
   "cell_type": "code",
   "execution_count": 21,
   "metadata": {
    "scrolled": true
   },
   "outputs": [],
   "source": [
    "#print(pred)"
   ]
  },
  {
   "cell_type": "markdown",
   "metadata": {},
   "source": [
    "## Visualize vectors"
   ]
  },
  {
   "cell_type": "code",
   "execution_count": 22,
   "metadata": {
    "scrolled": true
   },
   "outputs": [
    {
     "data": {
      "text/plain": [
       "(7, 183)"
      ]
     },
     "execution_count": 22,
     "metadata": {},
     "output_type": "execute_result"
    }
   ],
   "source": [
    "X_arr = []\n",
    "X_arr.append(X[0].toarray()[0])\n",
    "X_arr.append(X[1].toarray()[0])\n",
    "X_arr.append(X[2].toarray()[0])\n",
    "X_arr.append(X[3].toarray()[0])\n",
    "X_arr.append(X[4].toarray()[0])\n",
    "X_arr.append(X[5].toarray()[0])\n",
    "X_arr.append(X[6].toarray()[0])\n",
    "\n",
    "X_arr = np.array(X_arr)\n",
    "X_arr.shape\n"
   ]
  },
  {
   "cell_type": "code",
   "execution_count": 23,
   "metadata": {
    "scrolled": true
   },
   "outputs": [],
   "source": [
    "# Dimensionality reduction: t-SNE model\n",
    "#from sklearn.manifold import TSNE\n",
    "\n",
    "# angle value close to 1 means sacrificing accuracy for speed\n",
    "# pca initializtion usually leads to better results \n",
    "#tsne_model = TSNE(n_components=2, verbose=1, random_state=0, angle=.99, init='pca')\n",
    "\n",
    "# 183-D -> 2-D\n",
    "#dim_arr = tsne_model.fit_transform(X_arr)\n",
    "#dim_arr"
   ]
  },
  {
   "cell_type": "code",
   "execution_count": 24,
   "metadata": {},
   "outputs": [
    {
     "data": {
      "text/plain": [
       "array([[-0.15400582,  0.72244091],\n",
       "       [-0.17886838,  0.02448122],\n",
       "       [-0.57559785, -0.53335377],\n",
       "       [ 0.04049823,  0.28339271],\n",
       "       [ 0.53029645, -0.31765814],\n",
       "       [ 0.58248607, -0.09461814],\n",
       "       [-0.24480869, -0.08468478]])"
      ]
     },
     "execution_count": 24,
     "metadata": {},
     "output_type": "execute_result"
    }
   ],
   "source": [
    "# Dimensionality reduction: PCA model\n",
    "from sklearn.decomposition import PCA\n",
    "pca = PCA(n_components = 2)\n",
    "dim_arr = pca.fit_transform(X_arr)\n",
    "dim_arr"
   ]
  },
  {
   "cell_type": "code",
   "execution_count": 25,
   "metadata": {},
   "outputs": [
    {
     "data": {
      "text/plain": [
       "-0.15400582043452601"
      ]
     },
     "execution_count": 25,
     "metadata": {},
     "output_type": "execute_result"
    }
   ],
   "source": [
    "dim_arr[0, 0]"
   ]
  },
  {
   "cell_type": "code",
   "execution_count": 26,
   "metadata": {},
   "outputs": [
    {
     "data": {
      "image/png": "[encoded data removed]",
      "text/plain": [
       "<Figure size 432x288 with 1 Axes>"
      ]
     },
     "metadata": {
      "needs_background": "light"
     },
     "output_type": "display_data"
    }
   ],
   "source": [
    "# Scatter chart of the clusters\n",
    "#plt.scatter(dim_arr[:, 0], dim_arr[:, 1],  alpha=0.5)\n",
    "\n",
    "plt.scatter(dim_arr[0, 0], dim_arr[0, 1], s = 50, c = 'green', label = 'Doc 1')\n",
    "plt.scatter(dim_arr[1, 0], dim_arr[1, 1], s = 50, c = 'blue', label = 'Doc 2')\n",
    "plt.scatter(dim_arr[2, 0], dim_arr[2, 1], s = 50, c = 'black', label = 'Doc 3')\n",
    "plt.scatter(dim_arr[3, 0], dim_arr[3, 1], s = 50, c = 'orange', label = 'Doc 4')#spam\n",
    "plt.scatter(dim_arr[4, 0], dim_arr[4, 1], s = 50, c = 'pink', label = 'Doc 5')\n",
    "plt.scatter(dim_arr[5, 0], dim_arr[5, 1], s = 50, c = 'yellow', label = 'Doc 6') #Spam\n",
    "plt.scatter(dim_arr[6, 0], dim_arr[6, 1], s = 200, c = 'red', label = 'Spam Doc')\n",
    "plt.legend()\n",
    "plt.show()"
   ]
  },
  {
   "cell_type": "markdown",
   "metadata": {},
   "source": [
    "Note: Doc2, Doc3 and Doc4 are close to spam doc corpus."
   ]
  },
  {
   "cell_type": "markdown",
   "metadata": {},
   "source": [
    "Reference:<br>\n",
    "https://shuaiw.github.io/2016/12/22/topic-modeling-and-tsne-visualzation.html\n"
   ]
  }
 ],
 "metadata": {
  "kernelspec": {
   "display_name": "Python 3",
   "language": "python",
   "name": "python3"
  },
  "language_info": {
   "codemirror_mode": {
    "name": "ipython",
    "version": 3
   },
   "file_extension": ".py",
   "mimetype": "text/x-python",
   "name": "python",
   "nbconvert_exporter": "python",
   "pygments_lexer": "ipython3",
   "version": "3.6.6"
  }
 },
 "nbformat": 4,
 "nbformat_minor": 2
}
