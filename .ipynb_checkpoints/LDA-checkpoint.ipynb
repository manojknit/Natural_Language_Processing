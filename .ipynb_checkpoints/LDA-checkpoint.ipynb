{
 "cells": [
  {
   "cell_type": "markdown",
   "metadata": {},
   "source": [
    "# Topic Modeling and Latent Dirichlet Allocation (LDA) in Python\n",
    "\n",
    "Dataset:<br>\n",
    "https://www.kaggle.com/therohk/million-headlines/data"
   ]
  },
  {
   "cell_type": "code",
   "execution_count": 1,
   "metadata": {},
   "outputs": [],
   "source": [
    "import pandas as pd\n",
    "data = pd.read_csv('dataset/abcnews-date-text.csv', error_bad_lines=False);\n",
    "data_text = data[['headline_text']]\n",
    "data_text['index'] = data_text.index\n",
    "documents = data_text"
   ]
  },
  {
   "cell_type": "code",
   "execution_count": 2,
   "metadata": {},
   "outputs": [
    {
     "name": "stdout",
     "output_type": "stream",
     "text": [
      "1103665\n",
      "                                       headline_text  index\n",
      "0  aba decides against community broadcasting lic...      0\n",
      "1     act fire witnesses must be aware of defamation      1\n",
      "2     a g calls for infrastructure protection summit      2\n",
      "3           air nz staff in aust strike for pay rise      3\n",
      "4      air nz strike to affect australian travellers      4\n"
     ]
    }
   ],
   "source": [
    "print(len(documents))\n",
    "print(documents[:5])"
   ]
  },
  {
   "cell_type": "markdown",
   "metadata": {},
   "source": [
    "# Data Pre-processing\n",
    "* **Tokenization**: Split the text into sentences and the sentences into words. Lowercase the words and remove punctuation.\n",
    "* Words that have fewer than 3 characters are removed.\n",
    "* All **stopwords** are removed.\n",
    "* Words are **lemmatized** — words in third person are changed to first person and verbs in past and future tenses are changed into present.\n",
    "* Words are **stemmed** — words are reduced to their root form."
   ]
  },
  {
   "cell_type": "code",
   "execution_count": 3,
   "metadata": {},
   "outputs": [
    {
     "name": "stdout",
     "output_type": "stream",
     "text": [
      "[nltk_data] Downloading package wordnet to\n",
      "[nltk_data]     /Users/mk194903/nltk_data...\n",
      "[nltk_data]   Package wordnet is already up-to-date!\n"
     ]
    },
    {
     "data": {
      "text/plain": [
       "True"
      ]
     },
     "execution_count": 3,
     "metadata": {},
     "output_type": "execute_result"
    }
   ],
   "source": [
    "#Loading gensim and nltk libraries\n",
    "import gensim\n",
    "from gensim.utils import simple_preprocess\n",
    "from gensim.parsing.preprocessing import STOPWORDS\n",
    "from nltk.stem import WordNetLemmatizer, SnowballStemmer\n",
    "from nltk.stem.porter import *\n",
    "import numpy as np\n",
    "np.random.seed(2018)\n",
    "import nltk\n",
    "nltk.download('wordnet')"
   ]
  },
  {
   "cell_type": "code",
   "execution_count": 4,
   "metadata": {},
   "outputs": [
    {
     "name": "stdout",
     "output_type": "stream",
     "text": [
      "caress fli die mule deni die agre own humbl size\n"
     ]
    }
   ],
   "source": [
    "stemmer = PorterStemmer()#Stemmers remove morphological affixes from words, leaving only the word stem.\n",
    "plurals = ['caresses', 'flies', 'dies', 'mules', 'denied', 'died', 'agreed', 'owned', 'humbled', 'sized']\n",
    "singles = [stemmer.stem(plural) for plural in plurals]\n",
    "print(' '.join(singles))"
   ]
  },
  {
   "cell_type": "code",
   "execution_count": 5,
   "metadata": {},
   "outputs": [],
   "source": [
    "# perform lemmatize and stem preprocessing steps on the data set\n",
    "def lemmatize_stemming(text):\n",
    "    return stemmer.stem(WordNetLemmatizer().lemmatize(text, pos='v'))\n",
    "def preprocess(text):\n",
    "    result = []\n",
    "    for token in gensim.utils.simple_preprocess(text):\n",
    "        if token not in gensim.parsing.preprocessing.STOPWORDS and len(token) > 3:\n",
    "            result.append(lemmatize_stemming(token))\n",
    "    return result"
   ]
  },
  {
   "cell_type": "code",
   "execution_count": 6,
   "metadata": {},
   "outputs": [
    {
     "name": "stdout",
     "output_type": "stream",
     "text": [
      "original document: \n",
      "['rain', 'helps', 'dampen', 'bushfires']\n",
      "\n",
      "\n",
      " tokenized and lemmatized document: \n",
      "['rain', 'help', 'dampen', 'bushfir']\n"
     ]
    }
   ],
   "source": [
    "# Select a document to preview after preprocessing\n",
    "doc_sample = documents[documents['index'] == 4310].values[0][0]\n",
    "print('original document: ')\n",
    "words = []\n",
    "for word in doc_sample.split(' '):\n",
    "    words.append(word)\n",
    "print(words)\n",
    "print('\\n\\n tokenized and lemmatized document: ')\n",
    "print(preprocess(doc_sample))"
   ]
  },
  {
   "cell_type": "code",
   "execution_count": 7,
   "metadata": {},
   "outputs": [
    {
     "data": {
      "text/plain": [
       "0               [decid, commun, broadcast, licenc]\n",
       "1                               [wit, awar, defam]\n",
       "2           [call, infrastructur, protect, summit]\n",
       "3                      [staff, aust, strike, rise]\n",
       "4             [strike, affect, australian, travel]\n",
       "5               [ambiti, olsson, win, tripl, jump]\n",
       "6           [antic, delight, record, break, barca]\n",
       "7    [aussi, qualifi, stosur, wast, memphi, match]\n",
       "8            [aust, address, secur, council, iraq]\n",
       "9                         [australia, lock, timet]\n",
       "Name: headline_text, dtype: object"
      ]
     },
     "execution_count": 7,
     "metadata": {},
     "output_type": "execute_result"
    }
   ],
   "source": [
    "# Preprocess the headline text, saving the results as ‘processed_docs’\n",
    "processed_docs = documents['headline_text'].map(preprocess)\n",
    "processed_docs[:10]"
   ]
  },
  {
   "cell_type": "markdown",
   "metadata": {},
   "source": [
    "### Bag of Words on the Data set "
   ]
  },
  {
   "cell_type": "code",
   "execution_count": 8,
   "metadata": {},
   "outputs": [
    {
     "name": "stdout",
     "output_type": "stream",
     "text": [
      "0 broadcast\n",
      "1 commun\n",
      "2 decid\n",
      "3 licenc\n",
      "4 awar\n",
      "5 defam\n",
      "6 wit\n",
      "7 call\n",
      "8 infrastructur\n",
      "9 protect\n",
      "10 summit\n"
     ]
    }
   ],
   "source": [
    "# Create a dictionary from ‘processed_docs’ containing the number of times a word appears in the training set.\n",
    "dictionary = gensim.corpora.Dictionary(processed_docs)\n",
    "count = 0\n",
    "for k, v in dictionary.iteritems():\n",
    "    print(k, v)\n",
    "    count += 1\n",
    "    if count > 10:\n",
    "        break"
   ]
  },
  {
   "cell_type": "markdown",
   "metadata": {},
   "source": [
    "###  Gensim filter_extremes\n",
    "#### Filter out tokens that appear in\n",
    "\n",
    "* less than 15 documents (absolute number) or\n",
    "* more than 0.5 documents (fraction of total corpus size, not absolute number).\n",
    "* after the above two steps, keep only the first 100000 most frequent tokens."
   ]
  },
  {
   "cell_type": "code",
   "execution_count": 9,
   "metadata": {},
   "outputs": [],
   "source": [
    "dictionary.filter_extremes(no_below=15, no_above=0.5, keep_n=100000)"
   ]
  },
  {
   "cell_type": "markdown",
   "metadata": {},
   "source": [
    "### Gensim doc2bow\n",
    "\n",
    "For each document we create a dictionary reporting how many\n",
    "words and how many times those words appear. Save this to ‘bow_corpus’, then check our selected document earlier."
   ]
  },
  {
   "cell_type": "code",
   "execution_count": 10,
   "metadata": {},
   "outputs": [
    {
     "data": {
      "text/plain": [
       "[(76, 1), (112, 1), (483, 1), (4021, 1)]"
      ]
     },
     "execution_count": 10,
     "metadata": {},
     "output_type": "execute_result"
    }
   ],
   "source": [
    "bow_corpus = [dictionary.doc2bow(doc) for doc in processed_docs]\n",
    "bow_corpus[4310]"
   ]
  },
  {
   "cell_type": "code",
   "execution_count": 11,
   "metadata": {},
   "outputs": [
    {
     "name": "stdout",
     "output_type": "stream",
     "text": [
      "Word 76 (\"bushfir\") appears 1 time.\n",
      "Word 112 (\"help\") appears 1 time.\n",
      "Word 483 (\"rain\") appears 1 time.\n",
      "Word 4021 (\"dampen\") appears 1 time.\n"
     ]
    }
   ],
   "source": [
    "# Preview Bag Of Words for our sample preprocessed document.\n",
    "bow_doc_4310 = bow_corpus[4310]\n",
    "for i in range(len(bow_doc_4310)):\n",
    "    print(\"Word {} (\\\"{}\\\") appears {} time.\".format(bow_doc_4310[i][0], \n",
    "                                               dictionary[bow_doc_4310[i][0]], \n",
    "bow_doc_4310[i][1]))"
   ]
  },
  {
   "cell_type": "markdown",
   "metadata": {},
   "source": [
    "# TF-IDF\n",
    "Create tf-idf model object using models.TfidfModel on ‘bow_corpus’ and save it to ‘tfidf’, then apply transformation to the entire corpus and call it ‘corpus_tfidf’. Finally we preview TF-IDF scores for our first document."
   ]
  },
  {
   "cell_type": "code",
   "execution_count": 12,
   "metadata": {},
   "outputs": [
    {
     "name": "stdout",
     "output_type": "stream",
     "text": [
      "[(0, 0.5903602896750699),\n",
      " (1, 0.38524510107363613),\n",
      " (2, 0.4974556071174764),\n",
      " (3, 0.5055678583740412)]\n"
     ]
    }
   ],
   "source": [
    "from gensim import corpora, models\n",
    "tfidf = models.TfidfModel(bow_corpus)\n",
    "corpus_tfidf = tfidf[bow_corpus]\n",
    "from pprint import pprint\n",
    "for doc in corpus_tfidf:\n",
    "    pprint(doc)\n",
    "    break"
   ]
  },
  {
   "cell_type": "markdown",
   "metadata": {},
   "source": [
    "## LDA using Bag of Words\n",
    "Train our lda model using gensim.models.LdaMulticore and save it to ‘lda_model’"
   ]
  },
  {
   "cell_type": "code",
   "execution_count": 13,
   "metadata": {},
   "outputs": [],
   "source": [
    "lda_model = gensim.models.LdaMulticore(bow_corpus, num_topics=10, id2word=dictionary, passes=2, workers=2)"
   ]
  },
  {
   "cell_type": "markdown",
   "metadata": {},
   "source": [
    "For each topic, we will explore the words occuring in that topic and its relative weight."
   ]
  },
  {
   "cell_type": "code",
   "execution_count": 14,
   "metadata": {},
   "outputs": [
    {
     "name": "stdout",
     "output_type": "stream",
     "text": [
      "Topic: 0 \n",
      "Words: 0.032*\"queensland\" + 0.020*\"countri\" + 0.018*\"hospit\" + 0.018*\"tasmanian\" + 0.017*\"hour\" + 0.015*\"work\" + 0.015*\"children\" + 0.013*\"student\" + 0.013*\"citi\" + 0.011*\"prison\"\n",
      "Topic: 1 \n",
      "Words: 0.030*\"australia\" + 0.023*\"world\" + 0.019*\"sydney\" + 0.017*\"market\" + 0.012*\"record\" + 0.012*\"share\" + 0.011*\"victoria\" + 0.009*\"port\" + 0.009*\"melbourn\" + 0.009*\"australian\"\n",
      "Topic: 2 \n",
      "Words: 0.035*\"trump\" + 0.022*\"kill\" + 0.021*\"north\" + 0.020*\"coast\" + 0.016*\"china\" + 0.016*\"attack\" + 0.014*\"west\" + 0.014*\"adelaid\" + 0.013*\"price\" + 0.013*\"gold\"\n",
      "Topic: 3 \n",
      "Words: 0.026*\"govern\" + 0.016*\"plan\" + 0.013*\"rural\" + 0.013*\"say\" + 0.013*\"council\" + 0.012*\"indigen\" + 0.011*\"chang\" + 0.011*\"turnbul\" + 0.011*\"water\" + 0.011*\"commun\"\n",
      "Topic: 4 \n",
      "Words: 0.017*\"tasmania\" + 0.015*\"time\" + 0.015*\"fight\" + 0.013*\"lose\" + 0.012*\"leagu\" + 0.011*\"john\" + 0.010*\"life\" + 0.009*\"premier\" + 0.009*\"unit\" + 0.008*\"make\"\n",
      "Topic: 5 \n",
      "Words: 0.027*\"elect\" + 0.023*\"south\" + 0.020*\"open\" + 0.017*\"final\" + 0.014*\"australia\" + 0.012*\"nation\" + 0.010*\"polit\" + 0.010*\"budget\" + 0.010*\"australian\" + 0.010*\"talk\"\n",
      "Topic: 6 \n",
      "Words: 0.017*\"brisban\" + 0.016*\"famili\" + 0.014*\"child\" + 0.013*\"report\" + 0.013*\"jail\" + 0.011*\"abus\" + 0.011*\"sentenc\" + 0.011*\"show\" + 0.010*\"victim\" + 0.010*\"releas\"\n",
      "Topic: 7 \n",
      "Words: 0.023*\"hous\" + 0.019*\"die\" + 0.016*\"home\" + 0.014*\"crash\" + 0.014*\"break\" + 0.013*\"perth\" + 0.013*\"take\" + 0.011*\"lead\" + 0.010*\"near\" + 0.009*\"road\"\n",
      "Topic: 8 \n",
      "Words: 0.034*\"polic\" + 0.018*\"interview\" + 0.018*\"health\" + 0.017*\"miss\" + 0.014*\"investig\" + 0.013*\"concern\" + 0.011*\"servic\" + 0.011*\"search\" + 0.011*\"call\" + 0.011*\"minist\"\n",
      "Topic: 9 \n",
      "Words: 0.032*\"charg\" + 0.030*\"court\" + 0.023*\"murder\" + 0.022*\"polic\" + 0.019*\"face\" + 0.015*\"accus\" + 0.015*\"woman\" + 0.015*\"donald\" + 0.014*\"drug\" + 0.013*\"arrest\"\n"
     ]
    }
   ],
   "source": [
    "for idx, topic in lda_model.print_topics(-1):\n",
    "    print('Topic: {} \\nWords: {}'.format(idx, topic))"
   ]
  },
  {
   "cell_type": "markdown",
   "metadata": {},
   "source": [
    "## LDA using TF-IDF"
   ]
  },
  {
   "cell_type": "code",
   "execution_count": 15,
   "metadata": {},
   "outputs": [
    {
     "name": "stdout",
     "output_type": "stream",
     "text": [
      "Topic: 0 Word: 0.009*\"michael\" + 0.007*\"pacif\" + 0.006*\"resign\" + 0.006*\"scott\" + 0.004*\"corrupt\" + 0.004*\"australia\" + 0.004*\"think\" + 0.004*\"compens\" + 0.004*\"sunshin\" + 0.004*\"prime\"\n",
      "Topic: 1 Word: 0.008*\"marriag\" + 0.008*\"david\" + 0.007*\"juli\" + 0.007*\"monday\" + 0.007*\"rugbi\" + 0.006*\"histori\" + 0.006*\"andrew\" + 0.005*\"april\" + 0.005*\"shorten\" + 0.004*\"wallabi\"\n",
      "Topic: 2 Word: 0.024*\"countri\" + 0.022*\"hour\" + 0.007*\"octob\" + 0.007*\"stori\" + 0.006*\"wednesday\" + 0.005*\"zealand\" + 0.005*\"quiz\" + 0.004*\"onlin\" + 0.004*\"tree\" + 0.004*\"london\"\n",
      "Topic: 3 Word: 0.009*\"donald\" + 0.009*\"australia\" + 0.008*\"market\" + 0.008*\"share\" + 0.008*\"weather\" + 0.007*\"australian\" + 0.007*\"world\" + 0.006*\"ash\" + 0.005*\"cricket\" + 0.005*\"test\"\n",
      "Topic: 4 Word: 0.011*\"christma\" + 0.006*\"decemb\" + 0.006*\"tuesday\" + 0.006*\"thursday\" + 0.005*\"island\" + 0.004*\"solar\" + 0.004*\"disabl\" + 0.004*\"paul\" + 0.004*\"mount\" + 0.004*\"adelaid\"\n",
      "Topic: 5 Word: 0.016*\"rural\" + 0.013*\"news\" + 0.011*\"podcast\" + 0.008*\"live\" + 0.007*\"abbott\" + 0.007*\"nation\" + 0.007*\"friday\" + 0.006*\"inquest\" + 0.005*\"anim\" + 0.005*\"blog\"\n",
      "Topic: 6 Word: 0.006*\"health\" + 0.006*\"fund\" + 0.006*\"budget\" + 0.006*\"sport\" + 0.006*\"grandstand\" + 0.006*\"chang\" + 0.005*\"coal\" + 0.005*\"climat\" + 0.005*\"servic\" + 0.005*\"indigen\"\n",
      "Topic: 7 Word: 0.010*\"govern\" + 0.007*\"farmer\" + 0.007*\"turnbul\" + 0.007*\"water\" + 0.006*\"farm\" + 0.006*\"flood\" + 0.006*\"tasmania\" + 0.005*\"queensland\" + 0.005*\"drought\" + 0.005*\"septemb\"\n",
      "Topic: 8 Word: 0.018*\"interview\" + 0.007*\"korea\" + 0.007*\"kill\" + 0.006*\"john\" + 0.006*\"peter\" + 0.006*\"malcolm\" + 0.005*\"syria\" + 0.005*\"south\" + 0.005*\"teen\" + 0.005*\"north\"\n",
      "Topic: 9 Word: 0.017*\"polic\" + 0.015*\"charg\" + 0.013*\"trump\" + 0.013*\"murder\" + 0.012*\"crash\" + 0.011*\"woman\" + 0.009*\"death\" + 0.009*\"court\" + 0.008*\"jail\" + 0.008*\"drum\"\n"
     ]
    }
   ],
   "source": [
    "lda_model_tfidf = gensim.models.LdaMulticore(corpus_tfidf, num_topics=10, id2word=dictionary, passes=2, workers=4)\n",
    "for idx, topic in lda_model_tfidf.print_topics(-1):\n",
    "    print('Topic: {} Word: {}'.format(idx, topic))"
   ]
  },
  {
   "cell_type": "markdown",
   "metadata": {},
   "source": [
    "# Performance evaluation by classifying sample document using LDA Bag of Words model"
   ]
  },
  {
   "cell_type": "code",
   "execution_count": 16,
   "metadata": {
    "scrolled": true
   },
   "outputs": [
    {
     "data": {
      "text/plain": [
       "['rain', 'help', 'dampen', 'bushfir']"
      ]
     },
     "execution_count": 16,
     "metadata": {},
     "output_type": "execute_result"
    }
   ],
   "source": [
    "processed_docs[4310]"
   ]
  },
  {
   "cell_type": "code",
   "execution_count": 17,
   "metadata": {},
   "outputs": [
    {
     "name": "stdout",
     "output_type": "stream",
     "text": [
      "\n",
      "Score: 0.41999998688697815\t \n",
      "Topic: 0.023*\"hous\" + 0.019*\"die\" + 0.016*\"home\" + 0.014*\"crash\" + 0.014*\"break\" + 0.013*\"perth\" + 0.013*\"take\" + 0.011*\"lead\" + 0.010*\"near\" + 0.009*\"road\"\n",
      "\n",
      "Score: 0.419996976852417\t \n",
      "Topic: 0.026*\"govern\" + 0.016*\"plan\" + 0.013*\"rural\" + 0.013*\"say\" + 0.013*\"council\" + 0.012*\"indigen\" + 0.011*\"chang\" + 0.011*\"turnbul\" + 0.011*\"water\" + 0.011*\"commun\"\n",
      "\n",
      "Score: 0.02000187709927559\t \n",
      "Topic: 0.017*\"brisban\" + 0.016*\"famili\" + 0.014*\"child\" + 0.013*\"report\" + 0.013*\"jail\" + 0.011*\"abus\" + 0.011*\"sentenc\" + 0.011*\"show\" + 0.010*\"victim\" + 0.010*\"releas\"\n",
      "\n",
      "Score: 0.02000097744166851\t \n",
      "Topic: 0.034*\"polic\" + 0.018*\"interview\" + 0.018*\"health\" + 0.017*\"miss\" + 0.014*\"investig\" + 0.013*\"concern\" + 0.011*\"servic\" + 0.011*\"search\" + 0.011*\"call\" + 0.011*\"minist\"\n",
      "\n",
      "Score: 0.020000169053673744\t \n",
      "Topic: 0.035*\"trump\" + 0.022*\"kill\" + 0.021*\"north\" + 0.020*\"coast\" + 0.016*\"china\" + 0.016*\"attack\" + 0.014*\"west\" + 0.014*\"adelaid\" + 0.013*\"price\" + 0.013*\"gold\"\n",
      "\n",
      "Score: 0.019999999552965164\t \n",
      "Topic: 0.032*\"queensland\" + 0.020*\"countri\" + 0.018*\"hospit\" + 0.018*\"tasmanian\" + 0.017*\"hour\" + 0.015*\"work\" + 0.015*\"children\" + 0.013*\"student\" + 0.013*\"citi\" + 0.011*\"prison\"\n",
      "\n",
      "Score: 0.019999999552965164\t \n",
      "Topic: 0.030*\"australia\" + 0.023*\"world\" + 0.019*\"sydney\" + 0.017*\"market\" + 0.012*\"record\" + 0.012*\"share\" + 0.011*\"victoria\" + 0.009*\"port\" + 0.009*\"melbourn\" + 0.009*\"australian\"\n",
      "\n",
      "Score: 0.019999999552965164\t \n",
      "Topic: 0.017*\"tasmania\" + 0.015*\"time\" + 0.015*\"fight\" + 0.013*\"lose\" + 0.012*\"leagu\" + 0.011*\"john\" + 0.010*\"life\" + 0.009*\"premier\" + 0.009*\"unit\" + 0.008*\"make\"\n",
      "\n",
      "Score: 0.019999999552965164\t \n",
      "Topic: 0.027*\"elect\" + 0.023*\"south\" + 0.020*\"open\" + 0.017*\"final\" + 0.014*\"australia\" + 0.012*\"nation\" + 0.010*\"polit\" + 0.010*\"budget\" + 0.010*\"australian\" + 0.010*\"talk\"\n",
      "\n",
      "Score: 0.019999999552965164\t \n",
      "Topic: 0.032*\"charg\" + 0.030*\"court\" + 0.023*\"murder\" + 0.022*\"polic\" + 0.019*\"face\" + 0.015*\"accus\" + 0.015*\"woman\" + 0.015*\"donald\" + 0.014*\"drug\" + 0.013*\"arrest\"\n"
     ]
    }
   ],
   "source": [
    "for index, score in sorted(lda_model[bow_corpus[4310]], key=lambda tup: -1*tup[1]):\n",
    "    print(\"\\nScore: {}\\t \\nTopic: {}\".format(score, lda_model.print_topic(index, 10)))"
   ]
  },
  {
   "cell_type": "markdown",
   "metadata": {},
   "source": [
    "**Note**: Our test document has the highest probability to be part of the topic that our model assigned, which is the accurate classification."
   ]
  },
  {
   "cell_type": "markdown",
   "metadata": {},
   "source": [
    "# Performance evaluation by classifying sample document using LDA TF-IDF model"
   ]
  },
  {
   "cell_type": "code",
   "execution_count": 18,
   "metadata": {},
   "outputs": [
    {
     "name": "stdout",
     "output_type": "stream",
     "text": [
      "\n",
      "Score: 0.5643007755279541\t \n",
      "Topic: 0.010*\"govern\" + 0.007*\"farmer\" + 0.007*\"turnbul\" + 0.007*\"water\" + 0.006*\"farm\" + 0.006*\"flood\" + 0.006*\"tasmania\" + 0.005*\"queensland\" + 0.005*\"drought\" + 0.005*\"septemb\"\n",
      "\n",
      "Score: 0.2756865620613098\t \n",
      "Topic: 0.024*\"countri\" + 0.022*\"hour\" + 0.007*\"octob\" + 0.007*\"stori\" + 0.006*\"wednesday\" + 0.005*\"zealand\" + 0.005*\"quiz\" + 0.004*\"onlin\" + 0.004*\"tree\" + 0.004*\"london\"\n",
      "\n",
      "Score: 0.020003488287329674\t \n",
      "Topic: 0.006*\"health\" + 0.006*\"fund\" + 0.006*\"budget\" + 0.006*\"sport\" + 0.006*\"grandstand\" + 0.006*\"chang\" + 0.005*\"coal\" + 0.005*\"climat\" + 0.005*\"servic\" + 0.005*\"indigen\"\n",
      "\n",
      "Score: 0.020002800971269608\t \n",
      "Topic: 0.017*\"polic\" + 0.015*\"charg\" + 0.013*\"trump\" + 0.013*\"murder\" + 0.012*\"crash\" + 0.011*\"woman\" + 0.009*\"death\" + 0.009*\"court\" + 0.008*\"jail\" + 0.008*\"drum\"\n",
      "\n",
      "Score: 0.02000151015818119\t \n",
      "Topic: 0.016*\"rural\" + 0.013*\"news\" + 0.011*\"podcast\" + 0.008*\"live\" + 0.007*\"abbott\" + 0.007*\"nation\" + 0.007*\"friday\" + 0.006*\"inquest\" + 0.005*\"anim\" + 0.005*\"blog\"\n",
      "\n",
      "Score: 0.020001154392957687\t \n",
      "Topic: 0.011*\"christma\" + 0.006*\"decemb\" + 0.006*\"tuesday\" + 0.006*\"thursday\" + 0.005*\"island\" + 0.004*\"solar\" + 0.004*\"disabl\" + 0.004*\"paul\" + 0.004*\"mount\" + 0.004*\"adelaid\"\n",
      "\n",
      "Score: 0.02000114694237709\t \n",
      "Topic: 0.018*\"interview\" + 0.007*\"korea\" + 0.007*\"kill\" + 0.006*\"john\" + 0.006*\"peter\" + 0.006*\"malcolm\" + 0.005*\"syria\" + 0.005*\"south\" + 0.005*\"teen\" + 0.005*\"north\"\n",
      "\n",
      "Score: 0.020001111552119255\t \n",
      "Topic: 0.009*\"donald\" + 0.009*\"australia\" + 0.008*\"market\" + 0.008*\"share\" + 0.008*\"weather\" + 0.007*\"australian\" + 0.007*\"world\" + 0.006*\"ash\" + 0.005*\"cricket\" + 0.005*\"test\"\n",
      "\n",
      "Score: 0.020000988617539406\t \n",
      "Topic: 0.009*\"michael\" + 0.007*\"pacif\" + 0.006*\"resign\" + 0.006*\"scott\" + 0.004*\"corrupt\" + 0.004*\"australia\" + 0.004*\"think\" + 0.004*\"compens\" + 0.004*\"sunshin\" + 0.004*\"prime\"\n",
      "\n",
      "Score: 0.020000474527478218\t \n",
      "Topic: 0.008*\"marriag\" + 0.008*\"david\" + 0.007*\"juli\" + 0.007*\"monday\" + 0.007*\"rugbi\" + 0.006*\"histori\" + 0.006*\"andrew\" + 0.005*\"april\" + 0.005*\"shorten\" + 0.004*\"wallabi\"\n"
     ]
    }
   ],
   "source": [
    "for index, score in sorted(lda_model_tfidf[bow_corpus[4310]], key=lambda tup: -1*tup[1]):\n",
    "    print(\"\\nScore: {}\\t \\nTopic: {}\".format(score, lda_model_tfidf.print_topic(index, 10)))"
   ]
  },
  {
   "cell_type": "markdown",
   "metadata": {},
   "source": [
    "**Note**: Our test document has the highest probability to be part of the topic that our model assigned, which is the accurate classification."
   ]
  },
  {
   "cell_type": "markdown",
   "metadata": {},
   "source": [
    "# Testing model on unseen document"
   ]
  },
  {
   "cell_type": "code",
   "execution_count": 19,
   "metadata": {},
   "outputs": [
    {
     "name": "stdout",
     "output_type": "stream",
     "text": [
      "Score: 0.34999993443489075\t Topic: 0.032*\"charg\" + 0.030*\"court\" + 0.023*\"murder\" + 0.022*\"polic\" + 0.019*\"face\"\n",
      "Score: 0.1833474189043045\t Topic: 0.027*\"elect\" + 0.023*\"south\" + 0.020*\"open\" + 0.017*\"final\" + 0.014*\"australia\"\n",
      "Score: 0.18333333730697632\t Topic: 0.017*\"brisban\" + 0.016*\"famili\" + 0.014*\"child\" + 0.013*\"report\" + 0.013*\"jail\"\n",
      "Score: 0.1833154410123825\t Topic: 0.035*\"trump\" + 0.022*\"kill\" + 0.021*\"north\" + 0.020*\"coast\" + 0.016*\"china\"\n",
      "Score: 0.01667053811252117\t Topic: 0.026*\"govern\" + 0.016*\"plan\" + 0.013*\"rural\" + 0.013*\"say\" + 0.013*\"council\"\n",
      "Score: 0.01666666753590107\t Topic: 0.032*\"queensland\" + 0.020*\"countri\" + 0.018*\"hospit\" + 0.018*\"tasmanian\" + 0.017*\"hour\"\n",
      "Score: 0.01666666753590107\t Topic: 0.030*\"australia\" + 0.023*\"world\" + 0.019*\"sydney\" + 0.017*\"market\" + 0.012*\"record\"\n",
      "Score: 0.01666666753590107\t Topic: 0.017*\"tasmania\" + 0.015*\"time\" + 0.015*\"fight\" + 0.013*\"lose\" + 0.012*\"leagu\"\n",
      "Score: 0.01666666753590107\t Topic: 0.023*\"hous\" + 0.019*\"die\" + 0.016*\"home\" + 0.014*\"crash\" + 0.014*\"break\"\n",
      "Score: 0.01666666753590107\t Topic: 0.034*\"polic\" + 0.018*\"interview\" + 0.018*\"health\" + 0.017*\"miss\" + 0.014*\"investig\"\n"
     ]
    }
   ],
   "source": [
    "unseen_document = 'How a Pentagon deal became an identity crisis for Google'\n",
    "bow_vector = dictionary.doc2bow(preprocess(unseen_document))\n",
    "for index, score in sorted(lda_model[bow_vector], key=lambda tup: -1*tup[1]):\n",
    "    print(\"Score: {}\\t Topic: {}\".format(score, lda_model.print_topic(index, 5)))"
   ]
  },
  {
   "cell_type": "markdown",
   "metadata": {},
   "source": [
    "Ref:<br>\n",
    "https://gist.github.com/cstrelioff/38b1d16a1253c962b7d7<br>\n",
    "https://towardsdatascience.com/topic-modeling-and-latent-dirichlet-allocation-in-python-9bf156893c24<br>"
   ]
  }
 ],
 "metadata": {
  "kernelspec": {
   "display_name": "Python 3",
   "language": "python",
   "name": "python3"
  },
  "language_info": {
   "codemirror_mode": {
    "name": "ipython",
    "version": 3
   },
   "file_extension": ".py",
   "mimetype": "text/x-python",
   "name": "python",
   "nbconvert_exporter": "python",
   "pygments_lexer": "ipython3",
   "version": "3.6.6"
  }
 },
 "nbformat": 4,
 "nbformat_minor": 2
}
